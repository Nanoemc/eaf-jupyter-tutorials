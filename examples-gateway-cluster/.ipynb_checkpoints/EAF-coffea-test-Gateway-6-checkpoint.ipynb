{
 "cells": [
  {
   "cell_type": "markdown",
   "metadata": {},
   "source": [
    "# EAF Coffea-Casa Benchmark Example 6 - Gateway and HTCondor"
   ]
  },
  {
   "cell_type": "code",
   "execution_count": 1,
   "metadata": {},
   "outputs": [],
   "source": [
    "import numpy as np\n",
    "%matplotlib inline\n",
    "from coffea import hist\n",
    "import coffea.processor as processor\n",
    "import awkward as ak\n",
    "from coffea.nanoevents import schemas"
   ]
  },
  {
   "cell_type": "code",
   "execution_count": 2,
   "metadata": {},
   "outputs": [],
   "source": [
    "# This program plots the pT of the trijet system in each event with mass closest to 172.5, \n",
    "#as well as the maximum b-tag among the three plotted jets.\n",
    "\n",
    "class Processor(processor.ProcessorABC):\n",
    "    def __init__(self):\n",
    "        dataset_axis = hist.Cat(\"dataset\", \"\")\n",
    "        Jet_axis = hist.Bin(\"Jet_pt\", \"Jet [GeV]\", 50, 15, 200)\n",
    "        b_tag_axis = hist.Bin(\"b_tag\", \"b-tagging discriminant\", 50, 0, 1)\n",
    "        \n",
    "        self._accumulator = processor.dict_accumulator({\n",
    "            'Jet_pt': hist.Hist(\"Counts\", dataset_axis, Jet_axis),\n",
    "            'b_tag': hist.Hist(\"Counts\", dataset_axis, b_tag_axis),\n",
    "            'cutflow': processor.defaultdict_accumulator(int)\n",
    "        })\n",
    "    \n",
    "    @property\n",
    "    def accumulator(self):\n",
    "        return self._accumulator\n",
    "    \n",
    "    def process(self, events):\n",
    "        output = self.accumulator.identity()\n",
    "        \n",
    "        dataset = events.metadata[\"dataset\"]\n",
    "        \n",
    "        jets = events.Jet\n",
    "        \n",
    "        # Closest calculates the distance from 172.5 of a group of masses, finds the minimum distance, \n",
    "        #then returns a Boolean array of the original input array shape with True where the minimum-distance \n",
    "        #mass is located.\n",
    "        def closest(masses):\n",
    "            delta = abs(172.5 - masses)\n",
    "            closest_masses = ak.min(delta, axis=1)\n",
    "            is_closest = (delta == closest_masses)\n",
    "            return is_closest\n",
    "        \n",
    "        # We're going to be generating combinations of three jets - that's a lot, \n",
    "        #and cutting pt off at 30 reduces jets by half.\n",
    "        cut_jets = jets[jets.pt > 30]\n",
    "        \n",
    "        # Get all combinations of three jets.\n",
    "        trijets = ak.combinations(cut_jets, 3, fields=['i0', 'i1', 'i2'])\n",
    "        # Get combined masses of those combinations, by adding all p4's and then taking .mass.\n",
    "        trijet_masses = (trijets['i0'] + trijets['i1'] + trijets['i2']).mass\n",
    "        # Get the masses closest to specified value (see function above)\n",
    "        is_closest = closest(trijet_masses)\n",
    "        closest_trijets = trijets[is_closest]\n",
    "        # Get pt of the closest trijets.\n",
    "        closest_pt = (closest_trijets['i0'] + closest_trijets['i1'] + closest_trijets['i2']).pt\n",
    "        # Get btag of the closest trijets. np.maximum(x,y) compares two arrays and gets element-wise maximums. \n",
    "        #We make two comparisons - once between the first and second jet, \n",
    "        #then between the first comparison and the third jet.\n",
    "        closest_btag = np.maximum(np.maximum(closest_trijets['i0'].btag, closest_trijets['i1'].btag), closest_trijets['i2'].btag)\n",
    "        \n",
    "        output['Jet_pt'].fill(dataset=dataset, Jet_pt=ak.flatten(closest_pt))\n",
    "        output['b_tag'].fill(dataset=dataset, b_tag=ak.flatten(closest_btag))\n",
    "        return output\n",
    "\n",
    "    def postprocess(self, accumulator):\n",
    "        return accumulator"
   ]
  },
  {
   "cell_type": "markdown",
   "metadata": {},
   "source": [
    "# Connecting to the gateway\n",
    "The code in the following cell imports the LPCGateway and connects to a cluster of HTCondor workers.\n",
    "* gateway.new_cluster() starts a new cluster\n",
    "* cluster.scale(N) specifies the number of workers in the cluster, here there are N workes in the cluster\n",
    "* cluster.get_client() obtains the client that will connect your cluster to the scheduler, this is how the HTCondor workers are assigned to your tasks on the grid"
   ]
  },
  {
   "cell_type": "code",
   "execution_count": 3,
   "metadata": {},
   "outputs": [
    {
     "name": "stdout",
     "output_type": "stream",
     "text": [
      "INFO:lpcdaskgateway.LPCGateway: Creating LPCGatewayCluster \n",
      "INFO:lpcdaskgateway.GatewayCluster: Scaling: 5 HTCondor workers\n",
      "INFO:lpcdaskgateway.GatewayCluster: Sandbox: /uscmst1b_scratch/lpc1/3DayLifetime/elisec/dask-gateway.aaaf926f8d634abdaa3904258b2c8c3d\n",
      "INFO:lpcdaskgateway.GatewayCluster: Success! submitted HTCondor jobs to lpcschedd2.fnal.gov with  ClusterId 37002920\n"
     ]
    },
    {
     "data": {
      "text/html": [
       "<table style=\"border: 2px solid white;\">\n",
       "<tr>\n",
       "<td style=\"vertical-align: top; border: 0px solid white\">\n",
       "<h3 style=\"text-align: left;\">Client</h3>\n",
       "<ul style=\"text-align: left; list-style: none; margin: 0; padding: 0;\">\n",
       "  <li><b>Scheduler: </b>gateway://172.30.227.32:80/dask-gateway.aaaf926f8d634abdaa3904258b2c8c3d</li>\n",
       "  <li><b>Dashboard: </b><a href='https://dask-gateway.fnal.gov/clusters/dask-gateway.aaaf926f8d634abdaa3904258b2c8c3d/status' target='_blank'>https://dask-gateway.fnal.gov/clusters/dask-gateway.aaaf926f8d634abdaa3904258b2c8c3d/status</a></li>\n",
       "</ul>\n",
       "</td>\n",
       "<td style=\"vertical-align: top; border: 0px solid white\">\n",
       "<h3 style=\"text-align: left;\">Cluster</h3>\n",
       "<ul style=\"text-align: left; list-style:none; margin: 0; padding: 0;\">\n",
       "  <li><b>Workers: </b>0</li>\n",
       "  <li><b>Cores: </b>0</li>\n",
       "  <li><b>Memory: </b>0 B</li>\n",
       "</ul>\n",
       "</td>\n",
       "</tr>\n",
       "</table>"
      ],
      "text/plain": [
       "<Client: 'tls://10.103.4.48:8786' processes=0 threads=0, memory=0 B>"
      ]
     },
     "execution_count": 3,
     "metadata": {},
     "output_type": "execute_result"
    }
   ],
   "source": [
    "from lpcdaskgateway import LPCGateway\n",
    "\n",
    "gateway = LPCGateway()\n",
    "cluster = gateway.new_cluster()\n",
    "cluster\n",
    "\n",
    "# Scale my cluster to 5 HTCondor workers\n",
    "cluster.scale(5)\n",
    "\n",
    "# Obtain a client for connecting to your cluster scheduler\n",
    "# Your cluster should be ready to take requests\n",
    "client = cluster.get_client()\n",
    "client"
   ]
  },
  {
   "cell_type": "markdown",
   "metadata": {},
   "source": [
    "### Warning: running on HTCondor could take some time\n",
    "The scheduler has to have available workers to connect to your cluster, this is what takes some time. After they connect, it should be much faster."
   ]
  },
  {
   "cell_type": "code",
   "execution_count": 4,
   "metadata": {},
   "outputs": [
    {
     "name": "stdout",
     "output_type": "stream",
     "text": [
      "INFO:numexpr.utils:Note: NumExpr detected 38 cores but \"NUMEXPR_MAX_THREADS\" not set, so enforcing safe limit of 8.\n",
      "INFO:numexpr.utils:NumExpr defaulting to 8 threads.\n",
      "[                                        ] | 0% Completed |  0.1s"
     ]
    },
    {
     "name": "stderr",
     "output_type": "stream",
     "text": [
      "/opt/conda/lib/python3.8/site-packages/dask/dataframe/utils.py:367: FutureWarning: pandas.Int64Index is deprecated and will be removed from pandas in a future version. Use pandas.Index with the appropriate dtype instead.\n",
      "  _numeric_index_types = (pd.Int64Index, pd.Float64Index, pd.UInt64Index)\n",
      "/opt/conda/lib/python3.8/site-packages/dask/dataframe/utils.py:367: FutureWarning: pandas.Float64Index is deprecated and will be removed from pandas in a future version. Use pandas.Index with the appropriate dtype instead.\n",
      "  _numeric_index_types = (pd.Int64Index, pd.Float64Index, pd.UInt64Index)\n",
      "/opt/conda/lib/python3.8/site-packages/dask/dataframe/utils.py:367: FutureWarning: pandas.UInt64Index is deprecated and will be removed from pandas in a future version. Use pandas.Index with the appropriate dtype instead.\n",
      "  _numeric_index_types = (pd.Int64Index, pd.Float64Index, pd.UInt64Index)\n"
     ]
    },
    {
     "name": "stdout",
     "output_type": "stream",
     "text": [
      "[########################################] | 100% Completed | 14min 32.4s\r"
     ]
    },
    {
     "data": {
      "text/plain": [
       "{'bytesread': 5549754105,\n",
       " 'columns': ['nJet', 'Jet_eta', 'Jet_btag', 'Jet_phi', 'Jet_pt', 'Jet_mass'],\n",
       " 'entries': 53446198,\n",
       " 'processtime': 2837.049519777298,\n",
       " 'chunks': 534}"
      ]
     },
     "execution_count": 4,
     "metadata": {},
     "output_type": "execute_result"
    }
   ],
   "source": [
    "fileset = {'SingleMu' : [\"root://eospublic.cern.ch//eos/root-eos/benchmark/Run2012B_SingleMu.root\"]}\n",
    "\n",
    "executor = processor.DaskExecutor(client=client)\n",
    "\n",
    "run = processor.Runner(executor=executor,\n",
    "                        schema=schemas.NanoAODSchema,\n",
    "                        savemetrics=True\n",
    "                      )\n",
    "\n",
    "output, metrics = run(fileset, \"Events\", processor_instance=Processor())\n",
    "\n",
    "metrics"
   ]
  },
  {
   "cell_type": "code",
   "execution_count": 5,
   "metadata": {},
   "outputs": [
    {
     "data": {
      "text/plain": [
       "<AxesSubplot:xlabel='Jet [GeV]', ylabel='Counts'>"
      ]
     },
     "execution_count": 5,
     "metadata": {},
     "output_type": "execute_result"
    },
    {
     "data": {
      "image/png": "[encoded data removed]",
      "text/plain": [
       "<Figure size 432x288 with 1 Axes>"
      ]
     },
     "metadata": {
      "needs_background": "light"
     },
     "output_type": "display_data"
    }
   ],
   "source": [
    "hist.plot1d(output['Jet_pt'], overlay='dataset', fill_opts={'edgecolor': (0,0,0,0.3), 'alpha': 0.8})"
   ]
  },
  {
   "cell_type": "code",
   "execution_count": 6,
   "metadata": {},
   "outputs": [
    {
     "data": {
      "text/plain": [
       "<AxesSubplot:xlabel='b-tagging discriminant', ylabel='Counts'>"
      ]
     },
     "execution_count": 6,
     "metadata": {},
     "output_type": "execute_result"
    },
    {
     "data": {
      "image/png": "[encoded data removed]",
      "text/plain": [
       "<Figure size 432x288 with 1 Axes>"
      ]
     },
     "metadata": {
      "needs_background": "light"
     },
     "output_type": "display_data"
    }
   ],
   "source": [
    "hist.plot1d(output['b_tag'], overlay='dataset', fill_opts={'edgecolor': (0,0,0,0.3), 'alpha': 0.8})"
   ]
  },
  {
   "cell_type": "markdown",
   "metadata": {},
   "source": [
    "### Do not forget to shutdown your cluster\n",
    "cluster.shutdown() does that gracefully"
   ]
  },
  {
   "cell_type": "code",
   "execution_count": 7,
   "metadata": {},
   "outputs": [
    {
     "name": "stdout",
     "output_type": "stream",
     "text": [
      "INFO:lpcdaskgateway.GatewayCluster: Shutting down HTCondor worker jobs\n",
      "INFO:lpcdaskgateway.GatewayCluster: All jobs in cluster 37002920 have been marked for removal\n"
     ]
    }
   ],
   "source": [
    "cluster.shutdown()"
   ]
  }
 ],
 "metadata": {
  "kernelspec": {
   "display_name": "Python 3 (ipykernel)",
   "language": "python",
   "name": "python3"
  },
  "language_info": {
   "codemirror_mode": {
    "name": "ipython",
    "version": 3
   },
   "file_extension": ".py",
   "mimetype": "text/x-python",
   "name": "python",
   "nbconvert_exporter": "python",
   "pygments_lexer": "ipython3",
   "version": "3.8.6"
  }
 },
 "nbformat": 4,
 "nbformat_minor": 4
}
