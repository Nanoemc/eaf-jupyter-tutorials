{
 "cells": [
  {
   "cell_type": "code",
   "execution_count": 1,
   "id": "2e57a7b5-35d5-4495-8632-6f3dc7ca4b4a",
   "metadata": {},
   "outputs": [
    {
     "name": "stdout",
     "output_type": "stream",
     "text": [
      "DEBUG:asyncio:Using selector: EpollSelector\n"
     ]
    },
    {
     "data": {
      "text/plain": [
       "[]"
      ]
     },
     "execution_count": 1,
     "metadata": {},
     "output_type": "execute_result"
    }
   ],
   "source": [
    "from htcdaskgateway import HTCGateway\n",
    "\n",
    "# Instantiate HTCGateway\n",
    "gateway = HTCGateway()\n",
    "\n",
    "# List all user's clusters\n",
    "clusters = gateway.list_clusters()\n",
    "clusters"
   ]
  },
  {
   "cell_type": "code",
   "execution_count": 2,
   "id": "876ac7ca-d963-4fb2-bccd-dab27be0d7bc",
   "metadata": {},
   "outputs": [
    {
     "name": "stdout",
     "output_type": "stream",
     "text": [
      "INFO:htcdaskgateway.HTCGateway: Creating HTCGatewayCluster \n",
      "Created: dask-gateway.44f5f77ab2ee4f6a84b13dd966ec62e5 - Status [running]\n",
      "Cluster dashboard: https://dask-gateway.fnal.gov/clusters/dask-gateway.44f5f77ab2ee4f6a84b13dd966ec62e5/status\n"
     ]
    }
   ],
   "source": [
    "# Create a new cluster\n",
    "# Workers and schedulers will run on COFFEA Docker images\n",
    "# registry.hub.docker.com/coffeateam/coffea-dask-cc7-gateway:latest\n",
    "# Source: https://github.com/CoffeaTeam/docker-coffea-dask/blob/main/dask-cc7-gateway/Dockerfile\n",
    "cluster = gateway.new_cluster()\n",
    "print(\"Created: \" + cluster.name + \" - Status [\"+cluster.status+\"]\")\n",
    "print(\"Cluster dashboard: \"+cluster.dashboard_link)"
   ]
  },
  {
   "cell_type": "code",
   "execution_count": null,
   "id": "90908cf9-4d94-41f2-b9f5-68fb06d1529d",
   "metadata": {},
   "outputs": [],
   "source": [
    "# Scale the cluster up, before running this function, make sure you have a valid VOMS proxy\n",
    "n_workers = 10\n",
    "print(\"Please allow up to 60 seconds for HTCondor worker jobs to start\")\n",
    "cluster.scale(n_workers)\n",
    "print(\"Cluster dashboard: \"+cluster.dashboard_link)\n",
    "# Verify HTCondor jobs running condor_q on your Terminal"
   ]
  },
  {
   "cell_type": "code",
   "execution_count": null,
   "id": "12da0672-a0c8-4ac7-9d94-9e5d7f6ad9d8",
   "metadata": {},
   "outputs": [],
   "source": [
    "# Obtain a client for connecting to your cluster scheduler\n",
    "# Your cluster should be ready to take requests\n",
    "client = cluster.get_client()\n",
    "client"
   ]
  },
  {
   "cell_type": "code",
   "execution_count": 4,
   "id": "01cb0c19-56ec-43d0-9f78-da220709f265",
   "metadata": {},
   "outputs": [],
   "source": [
    "# Shutdown the cluster after finishing to remove HTCondor jobs from the queue\n",
    "cluster.shutdown()"
   ]
  },
  {
   "cell_type": "code",
   "execution_count": null,
   "id": "c6918dc1-a6ac-4d37-ba47-6fdb2154a40f",
   "metadata": {},
   "outputs": [],
   "source": []
  }
 ],
 "metadata": {
  "kernelspec": {
   "display_name": "Python 3 (Safe Mode)",
   "language": "python",
   "name": "py3-safemode"
  },
  "language_info": {
   "codemirror_mode": {
    "name": "ipython",
    "version": 3
   },
   "file_extension": ".py",
   "mimetype": "text/x-python",
   "name": "python",
   "nbconvert_exporter": "python",
   "pygments_lexer": "ipython3",
   "version": "3.9.15"
  }
 },
 "nbformat": 4,
 "nbformat_minor": 5
}
